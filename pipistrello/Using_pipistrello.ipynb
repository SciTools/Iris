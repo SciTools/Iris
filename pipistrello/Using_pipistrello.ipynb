{
 "cells": [
  {
   "cell_type": "code",
   "execution_count": 1,
   "metadata": {
    "collapsed": false,
    "scrolled": false
   },
   "outputs": [
    {
     "name": "stdout",
     "output_type": "stream",
     "text": [
      "Cleaning up compiled files...\n",
      "compiled_krb: No such file or directory.\n",
      "\t __pycache__/utils.cpython-34.pyc removed\n",
      "\t __pycache__/pipistrello.cpython-34.pyc removed\n",
      "\t __pycache__ removed\n",
      "loading database...\n",
      "FILE:\n",
      "\n",
      "0, -1, u.nc\n",
      "\n",
      "CUBE:\n",
      "\n",
      "0, 0, Vector wind eastward component\n",
      "\n",
      "METADATA:\n",
      "\n",
      "0, 0, CubeMetadata(standard_name=None, long_name='Vector wind eastward component', var_name='u', units=Unit('meter per second'), attributes={'WOA01': 'http://localhost/junk', 'DODS_Name': 'UWind', 'base_time': '88- 10-00:00:00', 'i': 32000, 'b': -128, 'DODS_EXTRA.Unlimited_Dimension': 'time_a', 'title': ' FNOC UV wind components from 1988- 10 to 1988- 13.'}, cell_methods=())\n",
      "\n",
      "FILE:\n",
      "\n",
      "1, -1, coords.nc\n",
      "\n",
      "FILE:\n",
      "\n",
      "2, -1, new_mslp.nc\n",
      "\n",
      "CUBE:\n",
      "\n",
      "2, 0, air_pressure_at_sea_level\n",
      "\n",
      "COORDINATE:\n",
      "\n",
      "2, 0, time, 3888000.0, 19440000.0, , seconds since 2009-01-01\n",
      "\n",
      "COORDINATE:\n",
      "\n",
      "2, 0, latitude, 22.5, 52.5, , degrees\n",
      "\n",
      "COORDINATE:\n",
      "\n",
      "2, 0, longitude, -132.5, -72.5, , degrees\n",
      "\n",
      "METADATA:\n",
      "\n",
      "2, 0, CubeMetadata(standard_name='air_pressure_at_sea_level', long_name=None, var_name='pres', units=Unit('hectopascal'), attributes={'title': 'example for workshop'}, cell_methods=())\n",
      "\n",
      "FILE:\n",
      "\n",
      "3, -1, mslp.nc\n",
      "\n",
      "CUBE:\n",
      "\n",
      "3, 0, air_pressure_at_sea_level\n",
      "\n",
      "COORDINATE:\n",
      "\n",
      "3, 0, time, 3888000.0, 19440000.0, , seconds since 2009-01-01\n",
      "\n",
      "COORDINATE:\n",
      "\n",
      "3, 0, latitude, 22.5, 52.5, , degrees\n",
      "\n",
      "COORDINATE:\n",
      "\n",
      "3, 0, longitude, -132.5, -72.5, , degrees\n",
      "\n",
      "METADATA:\n",
      "\n",
      "3, 0, CubeMetadata(standard_name='air_pressure_at_sea_level', long_name=None, var_name='pr', units=Unit('hectopascal'), attributes={'title': 'example for workshop'}, cell_methods=())\n",
      "\n",
      "FILE:\n",
      "\n",
      "4, -1, fnoc1.nc\n",
      "\n",
      "CUBE:\n",
      "\n",
      "4, 0, Vector wind northward component\n",
      "\n",
      "COORDINATE:\n",
      "\n",
      "4, 0, latitude, 8.75, 51.25, , degrees\n",
      "\n",
      "COORDINATE:\n",
      "\n",
      "4, 0, longitude, -61.25, -8.75, , degrees\n",
      "\n",
      "METADATA:\n",
      "\n",
      "4, 0, CubeMetadata(standard_name=None, long_name='Vector wind northward component', var_name='v', units=Unit('meter per second'), attributes={'DODS_EXTRA.Unlimited_Dimension': 'time_a', 'DODS_Name': 'VWind', 'base_time': '88- 10-00:00:00', 'title': ' FNOC UV wind components from 1988- 10 to 1988- 13.'}, cell_methods=())\n",
      "\n",
      "CUBE:\n",
      "\n",
      "4, 1, Vector wind eastward component\n",
      "\n",
      "COORDINATE:\n",
      "\n",
      "4, 1, latitude, 8.75, 51.25, , degrees\n",
      "\n",
      "COORDINATE:\n",
      "\n",
      "4, 1, longitude, -61.25, -8.75, , degrees\n",
      "\n",
      "METADATA:\n",
      "\n",
      "4, 1, CubeMetadata(standard_name=None, long_name='Vector wind eastward component', var_name='u', units=Unit('meter per second'), attributes={'WOA01': 'http://localhost/junk', 'DODS_Name': 'UWind', 'base_time': '88- 10-00:00:00', 'i': 32000, 'b': -128, 'DODS_EXTRA.Unlimited_Dimension': 'time_a', 'title': ' FNOC UV wind components from 1988- 10 to 1988- 13.'}, cell_methods=())\n",
      "\n",
      "FILE:\n",
      "\n",
      "5, -1, coords_all.nc\n",
      "\n",
      "CUBE:\n",
      "\n",
      "5, 0, Vector wind northward component\n",
      "\n",
      "COORDINATE:\n",
      "\n",
      "5, 0, latitude, 8.75, 51.25, , degrees\n",
      "\n",
      "COORDINATE:\n",
      "\n",
      "5, 0, longitude, -61.25, -8.75, , degrees\n",
      "\n",
      "METADATA:\n",
      "\n",
      "5, 0, CubeMetadata(standard_name=None, long_name='Vector wind northward component', var_name='v', units=Unit('meter per second'), attributes={'DODS_EXTRA.Unlimited_Dimension': 'time_a', 'DODS_Name': 'VWind', 'base_time': '88- 10-00:00:00', 'title': ' FNOC UV wind components from 1988- 10 to 1988- 13.'}, cell_methods=())\n",
      "\n",
      "CUBE:\n",
      "\n",
      "5, 1, Vector wind eastward component\n",
      "\n",
      "COORDINATE:\n",
      "\n",
      "5, 1, latitude, 8.75, 51.25, , degrees\n",
      "\n",
      "COORDINATE:\n",
      "\n",
      "5, 1, longitude, -61.25, -8.75, , degrees\n",
      "\n",
      "METADATA:\n",
      "\n",
      "5, 1, CubeMetadata(standard_name=None, long_name='Vector wind eastward component', var_name='u', units=Unit('meter per second'), attributes={'WOA01': 'http://localhost/junk', 'DODS_Name': 'UWind', 'base_time': '88- 10-00:00:00', 'i': 32000, 'b': -128, 'DODS_EXTRA.Unlimited_Dimension': 'time_a', 'title': ' FNOC UV wind components from 1988- 10 to 1988- 13.'}, cell_methods=())\n",
      "\n",
      "FILE:\n",
      "\n",
      "6, -1, coads_climatology.nc.nc\n",
      "\n",
      "CUBE:\n",
      "\n",
      "6, 0, SEA SURFACE TEMPERATURE\n",
      "\n",
      "COORDINATE:\n",
      "\n",
      "6, 0, TIME, 0.7575, 8766.5775, , hour since 0000-01-01 00:00:00\n",
      "\n",
      "COORDINATE:\n",
      "\n",
      "6, 0, latitude, -90.0, 90.0, , degrees\n",
      "\n",
      "COORDINATE:\n",
      "\n",
      "6, 0, longitude, 20.0, 380.0, , degrees\n",
      "\n",
      "METADATA:\n",
      "\n",
      "6, 0, CubeMetadata(standard_name=None, long_name='SEA SURFACE TEMPERATURE', var_name='SST', units=Unit('degree_celsius'), attributes={'NC_GLOBAL.history': 'FERRET V4.30 (debug/no GUI) 15-Aug-96', 'DODS_EXTRA.Unlimited_Dimension': 'TIME', 'history': 'From coads_climatology'}, cell_methods=())\n",
      "\n",
      "CUBE:\n",
      "\n",
      "6, 1, MERIDIONAL WIND\n",
      "\n",
      "COORDINATE:\n",
      "\n",
      "6, 1, TIME, 0.7575, 8766.5775, , hour since 0000-01-01 00:00:00\n",
      "\n",
      "COORDINATE:\n",
      "\n",
      "6, 1, latitude, -90.0, 90.0, , degrees\n",
      "\n",
      "COORDINATE:\n",
      "\n",
      "6, 1, longitude, 20.0, 380.0, , degrees\n",
      "\n",
      "METADATA:\n",
      "\n",
      "6, 1, CubeMetadata(standard_name=None, long_name='MERIDIONAL WIND', var_name='VWND', units=Unit('meter per second'), attributes={'NC_GLOBAL.history': 'FERRET V4.30 (debug/no GUI) 15-Aug-96', 'DODS_EXTRA.Unlimited_Dimension': 'TIME', 'history': 'From coads_climatology'}, cell_methods=())\n",
      "\n",
      "CUBE:\n",
      "\n",
      "6, 2, ZONAL WIND\n",
      "\n",
      "COORDINATE:\n",
      "\n",
      "6, 2, TIME, 0.7575, 8766.5775, , hour since 0000-01-01 00:00:00\n",
      "\n",
      "COORDINATE:\n",
      "\n",
      "6, 2, latitude, -90.0, 90.0, , degrees\n",
      "\n",
      "COORDINATE:\n",
      "\n",
      "6, 2, longitude, 20.0, 380.0, , degrees\n",
      "\n",
      "METADATA:\n",
      "\n",
      "6, 2, CubeMetadata(standard_name=None, long_name='ZONAL WIND', var_name='UWND', units=Unit('meter per second'), attributes={'NC_GLOBAL.history': 'FERRET V4.30 (debug/no GUI) 15-Aug-96', 'DODS_EXTRA.Unlimited_Dimension': 'TIME', 'history': 'From coads_climatology'}, cell_methods=())\n",
      "\n",
      "CUBE:\n",
      "\n",
      "6, 3, AIR TEMPERATURE\n",
      "\n",
      "COORDINATE:\n",
      "\n",
      "6, 3, TIME, 0.7575, 8766.5775, , hour since 0000-01-01 00:00:00\n",
      "\n",
      "COORDINATE:\n",
      "\n",
      "6, 3, latitude, -90.0, 90.0, , degrees\n",
      "\n",
      "COORDINATE:\n",
      "\n",
      "6, 3, longitude, 20.0, 380.0, , degrees\n",
      "\n",
      "METADATA:\n",
      "\n",
      "6, 3, CubeMetadata(standard_name=None, long_name='AIR TEMPERATURE', var_name='AIRT', units=Unit('degree_celsius'), attributes={'NC_GLOBAL.history': 'FERRET V4.30 (debug/no GUI) 15-Aug-96', 'DODS_EXTRA.Unlimited_Dimension': 'TIME', 'history': 'From coads_climatology'}, cell_methods=())\n",
      "\n"
     ]
    }
   ],
   "source": [
    "#Import modules:\n",
    "import pipistrello\n",
    "database_dir = ('/home/juan/MHPC-Thesis/NetCDF_files')\n",
    "all_cubes = pipistrello.database(database_dir)"
   ]
  },
  {
   "cell_type": "code",
   "execution_count": 4,
   "metadata": {
    "collapsed": false
   },
   "outputs": [
    {
     "name": "stdout",
     "output_type": "stream",
     "text": [
      "7 7 7 7\n"
     ]
    }
   ],
   "source": [
    "#\n",
    "print(len(all_cubes.datafiles),\n",
    "      len(all_cubes.cubes),\n",
    "      len(all_cubes.coordinates),\n",
    "           len(all_cubes.metadatas))\n"
   ]
  },
  {
   "cell_type": "code",
   "execution_count": 14,
   "metadata": {
    "collapsed": false
   },
   "outputs": [
    {
     "name": "stdout",
     "output_type": "stream",
     "text": [
      "[\"CubeMetadata(standard_name=None, long_name='Vector wind eastward component', var_name='u', units=Unit('meter per second'), attributes={'WOA01': 'http://localhost/junk', 'DODS_Name': 'UWind', 'base_time': '88- 10-00:00:00', 'i': 32000, 'b': -128, 'DODS_EXTRA.Unlimited_Dimension': 'time_a', 'title': ' FNOC UV wind components from 1988- 10 to 1988- 13.'}, cell_methods=())\"] \n",
      "-----\n",
      "\n",
      "[] \n",
      "-----\n",
      "\n",
      "[\"CubeMetadata(standard_name='air_pressure_at_sea_level', long_name=None, var_name='pres', units=Unit('hectopascal'), attributes={'title': 'example for workshop'}, cell_methods=())\"] \n",
      "-----\n",
      "\n",
      "[\"CubeMetadata(standard_name='air_pressure_at_sea_level', long_name=None, var_name='pr', units=Unit('hectopascal'), attributes={'title': 'example for workshop'}, cell_methods=())\"] \n",
      "-----\n",
      "\n",
      "[\"CubeMetadata(standard_name=None, long_name='Vector wind northward component', var_name='v', units=Unit('meter per second'), attributes={'DODS_EXTRA.Unlimited_Dimension': 'time_a', 'DODS_Name': 'VWind', 'base_time': '88- 10-00:00:00', 'title': ' FNOC UV wind components from 1988- 10 to 1988- 13.'}, cell_methods=())\", \"CubeMetadata(standard_name=None, long_name='Vector wind eastward component', var_name='u', units=Unit('meter per second'), attributes={'WOA01': 'http://localhost/junk', 'DODS_Name': 'UWind', 'base_time': '88- 10-00:00:00', 'i': 32000, 'b': -128, 'DODS_EXTRA.Unlimited_Dimension': 'time_a', 'title': ' FNOC UV wind components from 1988- 10 to 1988- 13.'}, cell_methods=())\"] \n",
      "-----\n",
      "\n",
      "[\"CubeMetadata(standard_name=None, long_name='Vector wind northward component', var_name='v', units=Unit('meter per second'), attributes={'DODS_EXTRA.Unlimited_Dimension': 'time_a', 'DODS_Name': 'VWind', 'base_time': '88- 10-00:00:00', 'title': ' FNOC UV wind components from 1988- 10 to 1988- 13.'}, cell_methods=())\", \"CubeMetadata(standard_name=None, long_name='Vector wind eastward component', var_name='u', units=Unit('meter per second'), attributes={'WOA01': 'http://localhost/junk', 'DODS_Name': 'UWind', 'base_time': '88- 10-00:00:00', 'i': 32000, 'b': -128, 'DODS_EXTRA.Unlimited_Dimension': 'time_a', 'title': ' FNOC UV wind components from 1988- 10 to 1988- 13.'}, cell_methods=())\"] \n",
      "-----\n",
      "\n",
      "[\"CubeMetadata(standard_name=None, long_name='SEA SURFACE TEMPERATURE', var_name='SST', units=Unit('degree_celsius'), attributes={'NC_GLOBAL.history': 'FERRET V4.30 (debug/no GUI) 15-Aug-96', 'DODS_EXTRA.Unlimited_Dimension': 'TIME', 'history': 'From coads_climatology'}, cell_methods=())\", \"CubeMetadata(standard_name=None, long_name='MERIDIONAL WIND', var_name='VWND', units=Unit('meter per second'), attributes={'NC_GLOBAL.history': 'FERRET V4.30 (debug/no GUI) 15-Aug-96', 'DODS_EXTRA.Unlimited_Dimension': 'TIME', 'history': 'From coads_climatology'}, cell_methods=())\", \"CubeMetadata(standard_name=None, long_name='ZONAL WIND', var_name='UWND', units=Unit('meter per second'), attributes={'NC_GLOBAL.history': 'FERRET V4.30 (debug/no GUI) 15-Aug-96', 'DODS_EXTRA.Unlimited_Dimension': 'TIME', 'history': 'From coads_climatology'}, cell_methods=())\", \"CubeMetadata(standard_name=None, long_name='AIR TEMPERATURE', var_name='AIRT', units=Unit('degree_celsius'), attributes={'NC_GLOBAL.history': 'FERRET V4.30 (debug/no GUI) 15-Aug-96', 'DODS_EXTRA.Unlimited_Dimension': 'TIME', 'history': 'From coads_climatology'}, cell_methods=())\"] \n",
      "-----\n",
      "\n"
     ]
    }
   ],
   "source": [
    "for i in range(len(all_cubes.datafiles)):\n",
    "    for j in range(len(all_cubes.cubes[i])):\n",
    "    print(all_cubes.metadatas[i],\"\\n-----\\n\")"
   ]
  },
  {
   "cell_type": "code",
   "execution_count": null,
   "metadata": {
    "collapsed": false
   },
   "outputs": [],
   "source": [
    "#tomorrow start from here!\n",
    "def get_pipistrello_cubes(cube_name=''):\n",
    "    indices_to_load = []\n",
    "    cube_name = cube_name.lower()\n",
    "    for i in range(len(all_cubes.datafiles)):\n",
    "        for j in range(len(all_cubes.cubes[i])):\n",
    "            if cube_name in all_cubes.cubes[i][j].lower():\n",
    "                indices_to_load.append([i,j])\n",
    "\n",
    "    pipistrello_cubes = []\n",
    "    for indices in indices_to_load:\n",
    "        pipistrello_cubes.append(\n",
    "            iris.load(all_cubes.location+all_cubes.datafiles[indices[0]],\n",
    "                      all_cubes.cubes[indices[0]][indices[1]])\n",
    "                       )\n",
    "    if len(pipistrello_cubes) < 1:\n",
    "        print('No cubes found with \"{}\" in its name'.format(cube_name))\n",
    "        print(\"Did you mean...?\")\n",
    "        \n",
    "        for i in range(len(all_cubes.datafiles)):\n",
    "            for j in range(len(all_cubes.cubes[i])):\n",
    "                for k in range(0,len(cube_name)-3):\n",
    "                    if cube_name[k:k+3] in all_cubes.cubes[i][j].lower():\n",
    "                        print(all_cubes.cubes[i][j])\n",
    "                        break\n",
    "                    \n",
    "    return pipistrello_cubes"
   ]
  },
  {
   "cell_type": "code",
   "execution_count": null,
   "metadata": {
    "collapsed": false
   },
   "outputs": [],
   "source": [
    "cubesA = all_cubes.load_cubes('thward')\n",
    "for cube in cubesA:\n",
    "    print(cube)"
   ]
  },
  {
   "cell_type": "code",
   "execution_count": null,
   "metadata": {
    "collapsed": false
   },
   "outputs": [],
   "source": [
    "line1 = \"asdf\\n\"\n",
    "line2 = \"asdf\"\n",
    "print(line1[:-1])\n",
    "print(line2)\n",
    "\n"
   ]
  },
  {
   "cell_type": "code",
   "execution_count": null,
   "metadata": {
    "collapsed": false
   },
   "outputs": [],
   "source": [
    "pipistrello.create_database(database_dir)"
   ]
  },
  {
   "cell_type": "code",
   "execution_count": null,
   "metadata": {
    "collapsed": false
   },
   "outputs": [],
   "source": [
    "print(all_cubes)"
   ]
  },
  {
   "cell_type": "code",
   "execution_count": null,
   "metadata": {
    "collapsed": false
   },
   "outputs": [],
   "source": [
    "for c in cubes:\n",
    "    if c.name() == 'AIR TEMPERATURE':\n",
    "        c0 = c\n",
    "print(c0)\n"
   ]
  },
  {
   "cell_type": "code",
   "execution_count": null,
   "metadata": {
    "collapsed": false
   },
   "outputs": [],
   "source": [
    "for coord in c0.coords():\n",
    "    print(coord.name())"
   ]
  },
  {
   "cell_type": "code",
   "execution_count": null,
   "metadata": {
    "collapsed": false
   },
   "outputs": [],
   "source": [
    "print(c0.coord('latitude'))\n",
    "print(c0.coord('longitude'))"
   ]
  },
  {
   "cell_type": "code",
   "execution_count": null,
   "metadata": {
    "collapsed": false
   },
   "outputs": [],
   "source": [
    "#This will give error:\n",
    "#ValueError: \n",
    "#zero not allowed as a reference year, does not exist in Julian or Gregorian calendars\n",
    "\n",
    "if(0): print(c0.coord('TIME'))\n",
    "\n",
    "#Why? ...See the error and next box for the solution."
   ]
  },
  {
   "cell_type": "code",
   "execution_count": null,
   "metadata": {
    "collapsed": false
   },
   "outputs": [],
   "source": [
    "#Reason for the error above: The reference year is set to zero...\n",
    "#See...\n",
    "print(c0.coord('TIME').units)"
   ]
  },
  {
   "cell_type": "code",
   "execution_count": null,
   "metadata": {
    "collapsed": false
   },
   "outputs": [],
   "source": [
    "#We change the reference year by doing the following:\n",
    "c0.coord('TIME').units='hour since epoch'\n",
    "c0t = c0.coord('TIME')\n",
    "#\"epoch\" = 1st of january of 1970.\n",
    "print(c0t.units)\n"
   ]
  },
  {
   "cell_type": "code",
   "execution_count": null,
   "metadata": {
    "collapsed": false
   },
   "outputs": [],
   "source": [
    "#Now we can safely print the coordinate:\n",
    "print(c0.coord('TIME'))"
   ]
  },
  {
   "cell_type": "code",
   "execution_count": null,
   "metadata": {
    "collapsed": false
   },
   "outputs": [],
   "source": [
    "#As the 'time_origin' attribute is still wrong...\n",
    "print(c0.coord('TIME').attributes['time_origin'])\n",
    "\n",
    "#We change it by:\n",
    "c0.coord('TIME').attributes['time_origin'] = '01-JAN-1970 00:00:00'\n",
    "\n",
    "print(c0.coord('TIME').attributes['time_origin'])"
   ]
  },
  {
   "cell_type": "code",
   "execution_count": null,
   "metadata": {
    "collapsed": false
   },
   "outputs": [],
   "source": [
    "#We need to extract a 1D cube and for this we create constraints:\n",
    "print(\"The original cube:\\n {}\\n\".format(c0))\n",
    "c1 = c0.extract(iris.Constraint(longitude=45))\n",
    "print(\"Extracting a sub-cube with only longitude = 45:\\n {}\\n\".format(c1))\n",
    "c2 = c1.extract(iris.Constraint(latitude=47))\n",
    "print(\"Extracting again a sub-cube with only latitude = 47:\\n {}\\n\".format(c2))\n",
    "\n",
    "#There's another way of extacting a subset of a cube:\n",
    "#Another way of slicing a cube:\n",
    "c3 = c0[:,45,80]\n",
    "print(\"Extracting at once by indices:\\n {}\\n\".format(c3))"
   ]
  },
  {
   "cell_type": "code",
   "execution_count": null,
   "metadata": {
    "collapsed": false
   },
   "outputs": [],
   "source": [
    "#If we print c2.data we get something weird:\n",
    "if(1): print(c2.data)\n",
    "\n",
    "#That is because cube thata is a \"masked array\" object.\n",
    "print(type(c0.data))\n",
    "\n",
    "#To show only the valid entries, we use:\n",
    "print((c0.data.compressed()))\n",
    "\n",
    "#How many entries are not masked, i.e. valid?\n",
    "print(c0.data.size)\n",
    "print(c0.data.compressed().size)"
   ]
  },
  {
   "cell_type": "code",
   "execution_count": null,
   "metadata": {
    "collapsed": false
   },
   "outputs": [],
   "source": [
    "#That was not a good way of getting a 1D cube. We better take the average.\n",
    "#Indeed, constraining the cube to just one cell I don't think makes much sense...\n",
    "\n",
    "#1. We put bound to the cells in order to take an area-average:\n",
    "if not c0.coord('longitude').has_bounds():\n",
    "    c0.coord('longitude').guess_bounds()\n",
    "\n",
    "if not c0.coord('latitude').has_bounds():\n",
    "    c0.coord('latitude').guess_bounds()\n",
    "\n",
    "#2. We get the area weights of the cells composing the region:\n",
    "grid_areas = iris.analysis.cartography.area_weights(c0)\n",
    "\n",
    "#3. We \"collapse\" our 2D+Time cube into a 0D+Time by averaging using MEAN aggregator:\n",
    "c0collapsed = c0.collapsed(['longitude', 'latitude'], iris.analysis.MEAN, weights=grid_areas)\n",
    "\n",
    "print(c0collapsed)"
   ]
  },
  {
   "cell_type": "code",
   "execution_count": null,
   "metadata": {
    "collapsed": false
   },
   "outputs": [],
   "source": [
    "#We now want to interpolate between tmin and tmax. \n",
    "\n",
    "#We get the bounds:\n",
    "if not c0.coord('TIME').has_bounds():\n",
    "    c0.coord('TIME').guess_bounds()\n",
    "minT = c0.coord('TIME').bounds.min()\n",
    "maxT = c0.coord('TIME').bounds.max()\n",
    "\n",
    "print(\"minT = \",minT)\n",
    "print(\"maxT = \",maxT)\n",
    "print(\"units = \",c0.coord('TIME').units)\n",
    "\n",
    "#We set the sample points on the coordinate TIME:\n",
    "sample_points = [('TIME',np.linspace(minT,maxT))]\n",
    "\n",
    "#We make a 'Linear' interpolation. The other option is 'Nearest'\n",
    "c_interp = c0collapsed.interpolate(sample_points, iris.analysis.Linear())\n",
    "\n",
    "#Notice that the extracted and the interpolated cubes look the same\n",
    "#except for the number of time points available (12 the original, vs 50 the interpolated)\n",
    "print(\"Original collapsed Cube: \\n{}\\n\".format(c0collapsed))\n",
    "print(\"Interpolated Cube: \\n{}\\n\".format(c_interp))"
   ]
  },
  {
   "cell_type": "code",
   "execution_count": null,
   "metadata": {
    "collapsed": true
   },
   "outputs": [],
   "source": [
    "#We now plot the evolution of the temperature:\n",
    "iplt.plot(c0collapsed,'ro')\n",
    "iplt.plot(c_interp,'b.')\n",
    "plt.show()"
   ]
  },
  {
   "cell_type": "code",
   "execution_count": null,
   "metadata": {
    "collapsed": false
   },
   "outputs": [],
   "source": [
    "#We now do the reverse...\n",
    "\n",
    "#We get the bounds:\n",
    "if not c0.coord('longitude').has_bounds():\n",
    "    c0.coord('longitude').guess_bounds()\n",
    "minLon = c0.coord('longitude').bounds.min()\n",
    "maxLon = c0.coord('longitude').bounds.max()\n",
    "\n",
    "if not c0.coord('latitude').has_bounds():\n",
    "    c0.coord('latitude').guess_bounds()\n",
    "minLat = c0.coord('latitude').bounds.min()\n",
    "maxLat = c0.coord('latitude').bounds.max()\n",
    "\n",
    "print(\"minLon = \",minLon)\n",
    "print(\"maxLon = \",maxLon)\n",
    "print(\"units = \",c0.coord('longitude').units)\n",
    "\n",
    "print(\"minLat = \",minLat)\n",
    "print(\"maxLat = \",maxLat)\n",
    "print(\"units = \",c0.coord('latitude').units)\n",
    "\n",
    "#We set the sample points on the coordinate TIME:\n",
    "sample_points = [('longitude',np.linspace(minLon,maxLon)),('latitude',np.linspace(minLat,maxLat))]\n",
    "\n",
    "#We make a 'Linear' interpolation. The other option is 'Nearest'\n",
    "c_interpol = c0.interpolate(sample_points, iris.analysis.Linear())\n",
    "#c_interpol2 = c_interpol.interpolate([('longitude',[45]),('latitude',[47])],iris.analysis.Linear())\n",
    "#Notice that the extracted and the interpolated cubes look the same\n",
    "#except for the number of time points available (12 the original, vs 50 the interpolated)\n",
    "#print(\"Original collapsed Cube: \\n{}\\n\".format(c0collapsed))\n",
    "print(\"Interpolated Cube: \\n{}\\n\".format(c_interpol))\n",
    "#print(\"Interpolated Cube2: \\n{}\\n\".format(c_interpol2))"
   ]
  },
  {
   "cell_type": "code",
   "execution_count": null,
   "metadata": {
    "collapsed": false
   },
   "outputs": [],
   "source": [
    "for coord in c0.coords():\n",
    "    print(coord.standard_name)\n"
   ]
  },
  {
   "cell_type": "code",
   "execution_count": null,
   "metadata": {
    "collapsed": true
   },
   "outputs": [],
   "source": []
  }
 ],
 "metadata": {
  "kernelspec": {
   "display_name": "Python 3",
   "language": "python",
   "name": "python3"
  },
  "language_info": {
   "codemirror_mode": {
    "name": "ipython",
    "version": 3
   },
   "file_extension": ".py",
   "mimetype": "text/x-python",
   "name": "python",
   "nbconvert_exporter": "python",
   "pygments_lexer": "ipython3",
   "version": "3.4.5"
  }
 },
 "nbformat": 4,
 "nbformat_minor": 0
}
