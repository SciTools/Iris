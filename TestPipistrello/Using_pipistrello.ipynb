{
 "cells": [
  {
   "cell_type": "code",
   "execution_count": null,
   "metadata": {
    "collapsed": false
   },
   "outputs": [],
   "source": [
    "#Import modules:\n",
    "import pipistrello\n",
    "import iris\n",
    "database_dir = ('/home/juan/MHPC-Thesis/NetCDF_files/')\n",
    "cubes = iris.load(database_dir+'coads_climatology.nc.nc')\n",
    "for cube in cubes:\n",
    "    for coord in cube.coords('TIME'):\n",
    "        print(coord.name())\n",
    "        pipistrello.cube_utils.get_bounds(cube,coord.name())"
   ]
  },
  {
   "cell_type": "code",
   "execution_count": 1,
   "metadata": {
    "collapsed": false
   },
   "outputs": [
    {
     "name": "stdout",
     "output_type": "stream",
     "text": [
      "Cleaning up compiled files...\n",
      "compiled_krb: No such file or directory.\n"
     ]
    }
   ],
   "source": [
    "#import pipistrello\n",
    "import database\n"
   ]
  },
  {
   "cell_type": "code",
   "execution_count": 2,
   "metadata": {
    "collapsed": false
   },
   "outputs": [
    {
     "name": "stdout",
     "output_type": "stream",
     "text": [
      "CATALOGUE.txt not found in /home/juan/MHPC-Thesis/NetCDF_files.\n",
      "Trying to create it now...\n",
      "['catalogue.txt', 'u.nc', 'coords.nc', 'new_mslp.nc', 'mslp.nc', 'fnoc1.nc', 'coords_all.nc', 'coads_climatology.nc.nc']\n",
      "reading catalogue.txt\n",
      "Cannot open file /home/juan/MHPC-Thesis/NetCDF_files/catalogue.txt. Please make sure that the file is compatible with Iris.\n",
      "\n",
      "\n",
      "\n",
      "reading u.nc\n",
      "\n",
      "\n",
      "\n",
      "1 cubes read from /home/juan/MHPC-Thesis/NetCDF_files/u.nc:\n",
      "0: Vector wind eastward component / (meter per second) (-- : 4; -- : 5; -- : 6)\n",
      "reading coords.nc\n",
      "\n",
      "\n",
      "\n",
      "0 cubes read from /home/juan/MHPC-Thesis/NetCDF_files/coords.nc:\n",
      "< No cubes >\n",
      "Available cubes: \n",
      "< No cubes >\n",
      "reading new_mslp.nc\n",
      "\n",
      "\n",
      "\n",
      "1 cubes read from /home/juan/MHPC-Thesis/NetCDF_files/new_mslp.nc:\n",
      "0: air_pressure_at_sea_level / (hectopascal) (time: 2; latitude: 6; longitude: 4)\n",
      "coordinate = time\n",
      "coordinate = latitude\n",
      "coordinate = longitude\n",
      "reading mslp.nc\n",
      "\n",
      "\n",
      "\n",
      "1 cubes read from /home/juan/MHPC-Thesis/NetCDF_files/mslp.nc:\n",
      "0: air_pressure_at_sea_level / (hectopascal) (time: 2; latitude: 6; longitude: 4)\n",
      "coordinate = time\n",
      "coordinate = latitude\n",
      "coordinate = longitude\n",
      "reading fnoc1.nc\n",
      "\n",
      "\n",
      "\n",
      "2 cubes read from /home/juan/MHPC-Thesis/NetCDF_files/fnoc1.nc:\n",
      "0: Vector wind eastward component / (meter per second) (-- : 16; latitude: 17; longitude: 21)\n",
      "1: Vector wind northward component / (meter per second) (-- : 16; latitude: 17; longitude: 21)\n",
      "coordinate = latitude\n",
      "coordinate = longitude\n",
      "coordinate = latitude\n",
      "coordinate = longitude\n",
      "reading coords_all.nc\n",
      "\n",
      "\n",
      "\n",
      "2 cubes read from /home/juan/MHPC-Thesis/NetCDF_files/coords_all.nc:\n",
      "0: Vector wind eastward component / (meter per second) (-- : 16; latitude: 17; longitude: 21)\n",
      "1: Vector wind northward component / (meter per second) (-- : 16; latitude: 17; longitude: 21)\n",
      "coordinate = latitude\n",
      "coordinate = longitude\n",
      "coordinate = latitude\n",
      "coordinate = longitude\n",
      "reading coads_climatology.nc.nc\n",
      "\n",
      "\n",
      "\n",
      "4 cubes read from /home/juan/MHPC-Thesis/NetCDF_files/coads_climatology.nc.nc:\n",
      "0: SEA SURFACE TEMPERATURE / (degree_celsius) (TIME: 12; latitude: 90; longitude: 180)\n",
      "1: AIR TEMPERATURE / (degree_celsius)  (TIME: 12; latitude: 90; longitude: 180)\n",
      "2: ZONAL WIND / (meter per second)     (TIME: 12; latitude: 90; longitude: 180)\n",
      "3: MERIDIONAL WIND / (meter per second) (TIME: 12; latitude: 90; longitude: 180)\n",
      "coordinate = TIME\n",
      "coordinate = latitude\n",
      "coordinate = longitude\n",
      "coordinate = TIME\n",
      "coordinate = latitude\n",
      "coordinate = longitude\n",
      "coordinate = TIME\n",
      "coordinate = latitude\n",
      "coordinate = longitude\n",
      "coordinate = TIME\n",
      "coordinate = latitude\n",
      "coordinate = longitude\n",
      "The following files were not added to the catalogue:\n",
      "/home/juan/MHPC-Thesis/NetCDF_files/catalogue.txt\n",
      "loading database...\n",
      "u.nc\n",
      "index =  0\n",
      "coords.nc\n",
      "new_mslp.nc\n",
      "index =  2\n",
      "mslp.nc\n",
      "index =  3\n",
      "fnoc1.nc\n",
      "index =  4\n",
      "index =  4\n",
      "coords_all.nc\n",
      "index =  5\n",
      "index =  5\n",
      "coads_climatology.nc.nc\n",
      "index =  6\n",
      "index =  6\n",
      "index =  6\n",
      "index =  6\n"
     ]
    },
    {
     "name": "stderr",
     "output_type": "stream",
     "text": [
      "writing [compiled_krb]/fc_rules_cf_fc.py\n",
      "writing [compiled_krb]/compiled_pyke_files.py\n"
     ]
    }
   ],
   "source": [
    "database_dir = ('/home/juan/MHPC-Thesis/NetCDF_files')\n",
    "all_cubes = database.database(database_dir)"
   ]
  },
  {
   "cell_type": "code",
   "execution_count": 39,
   "metadata": {
    "collapsed": false
   },
   "outputs": [
    {
     "name": "stdout",
     "output_type": "stream",
     "text": [
      "0 Vector wind eastward component\n",
      "4 Vector wind eastward component\n",
      "4 Vector wind northward component\n",
      "5 Vector wind eastward component\n",
      "5 Vector wind northward component\n"
     ]
    }
   ],
   "source": [
    "#tomorrow start from here!\n",
    "for i in range(len(all_cubes.cubes)):\n",
    "    for j in range(len(all_cubes.cubes[i])):\n",
    "        if 'wind' in all_cubes.cubes[i][j]:\n",
    "            print(i,all_cubes.cubes[i][j])"
   ]
  },
  {
   "cell_type": "code",
   "execution_count": null,
   "metadata": {
    "collapsed": false
   },
   "outputs": [],
   "source": [
    "line1 = \"asdf\\n\"\n",
    "line2 = \"asdf\"\n",
    "print(line1[:-1])\n",
    "print(line2)\n",
    "\n"
   ]
  },
  {
   "cell_type": "code",
   "execution_count": null,
   "metadata": {
    "collapsed": false
   },
   "outputs": [],
   "source": [
    "pipistrello.create_database(database_dir)"
   ]
  },
  {
   "cell_type": "code",
   "execution_count": null,
   "metadata": {
    "collapsed": false
   },
   "outputs": [],
   "source": [
    "print(all_cubes)"
   ]
  },
  {
   "cell_type": "code",
   "execution_count": null,
   "metadata": {
    "collapsed": false
   },
   "outputs": [],
   "source": [
    "for c in cubes:\n",
    "    if c.name() == 'AIR TEMPERATURE':\n",
    "        c0 = c\n",
    "print(c0)\n"
   ]
  },
  {
   "cell_type": "code",
   "execution_count": null,
   "metadata": {
    "collapsed": false
   },
   "outputs": [],
   "source": [
    "for coord in c0.coords():\n",
    "    print(coord.name())"
   ]
  },
  {
   "cell_type": "code",
   "execution_count": null,
   "metadata": {
    "collapsed": false
   },
   "outputs": [],
   "source": [
    "print(c0.coord('latitude'))\n",
    "print(c0.coord('longitude'))"
   ]
  },
  {
   "cell_type": "code",
   "execution_count": null,
   "metadata": {
    "collapsed": false
   },
   "outputs": [],
   "source": [
    "#This will give error:\n",
    "#ValueError: \n",
    "#zero not allowed as a reference year, does not exist in Julian or Gregorian calendars\n",
    "\n",
    "if(0): print(c0.coord('TIME'))\n",
    "\n",
    "#Why? ...See the error and next box for the solution."
   ]
  },
  {
   "cell_type": "code",
   "execution_count": null,
   "metadata": {
    "collapsed": false
   },
   "outputs": [],
   "source": [
    "#Reason for the error above: The reference year is set to zero...\n",
    "#See...\n",
    "print(c0.coord('TIME').units)"
   ]
  },
  {
   "cell_type": "code",
   "execution_count": null,
   "metadata": {
    "collapsed": false
   },
   "outputs": [],
   "source": [
    "#We change the reference year by doing the following:\n",
    "c0.coord('TIME').units='hour since epoch'\n",
    "c0t = c0.coord('TIME')\n",
    "#\"epoch\" = 1st of january of 1970.\n",
    "print(c0t.units)\n"
   ]
  },
  {
   "cell_type": "code",
   "execution_count": null,
   "metadata": {
    "collapsed": false
   },
   "outputs": [],
   "source": [
    "#Now we can safely print the coordinate:\n",
    "print(c0.coord('TIME'))"
   ]
  },
  {
   "cell_type": "code",
   "execution_count": null,
   "metadata": {
    "collapsed": false
   },
   "outputs": [],
   "source": [
    "#As the 'time_origin' attribute is still wrong...\n",
    "print(c0.coord('TIME').attributes['time_origin'])\n",
    "\n",
    "#We change it by:\n",
    "c0.coord('TIME').attributes['time_origin'] = '01-JAN-1970 00:00:00'\n",
    "\n",
    "print(c0.coord('TIME').attributes['time_origin'])"
   ]
  },
  {
   "cell_type": "code",
   "execution_count": null,
   "metadata": {
    "collapsed": false
   },
   "outputs": [],
   "source": [
    "#We need to extract a 1D cube and for this we create constraints:\n",
    "print(\"The original cube:\\n {}\\n\".format(c0))\n",
    "c1 = c0.extract(iris.Constraint(longitude=45))\n",
    "print(\"Extracting a sub-cube with only longitude = 45:\\n {}\\n\".format(c1))\n",
    "c2 = c1.extract(iris.Constraint(latitude=47))\n",
    "print(\"Extracting again a sub-cube with only latitude = 47:\\n {}\\n\".format(c2))\n",
    "\n",
    "#There's another way of extacting a subset of a cube:\n",
    "#Another way of slicing a cube:\n",
    "c3 = c0[:,45,80]\n",
    "print(\"Extracting at once by indices:\\n {}\\n\".format(c3))"
   ]
  },
  {
   "cell_type": "code",
   "execution_count": null,
   "metadata": {
    "collapsed": false
   },
   "outputs": [],
   "source": [
    "#If we print c2.data we get something weird:\n",
    "if(1): print(c2.data)\n",
    "\n",
    "#That is because cube thata is a \"masked array\" object.\n",
    "print(type(c0.data))\n",
    "\n",
    "#To show only the valid entries, we use:\n",
    "print((c0.data.compressed()))\n",
    "\n",
    "#How many entries are not masked, i.e. valid?\n",
    "print(c0.data.size)\n",
    "print(c0.data.compressed().size)"
   ]
  },
  {
   "cell_type": "code",
   "execution_count": null,
   "metadata": {
    "collapsed": false
   },
   "outputs": [],
   "source": [
    "#That was not a good way of getting a 1D cube. We better take the average.\n",
    "#Indeed, constraining the cube to just one cell I don't think makes much sense...\n",
    "\n",
    "#1. We put bound to the cells in order to take an area-average:\n",
    "if not c0.coord('longitude').has_bounds():\n",
    "    c0.coord('longitude').guess_bounds()\n",
    "\n",
    "if not c0.coord('latitude').has_bounds():\n",
    "    c0.coord('latitude').guess_bounds()\n",
    "\n",
    "#2. We get the area weights of the cells composing the region:\n",
    "grid_areas = iris.analysis.cartography.area_weights(c0)\n",
    "\n",
    "#3. We \"collapse\" our 2D+Time cube into a 0D+Time by averaging using MEAN aggregator:\n",
    "c0collapsed = c0.collapsed(['longitude', 'latitude'], iris.analysis.MEAN, weights=grid_areas)\n",
    "\n",
    "print(c0collapsed)"
   ]
  },
  {
   "cell_type": "code",
   "execution_count": null,
   "metadata": {
    "collapsed": false
   },
   "outputs": [],
   "source": [
    "#We now want to interpolate between tmin and tmax. \n",
    "\n",
    "#We get the bounds:\n",
    "if not c0.coord('TIME').has_bounds():\n",
    "    c0.coord('TIME').guess_bounds()\n",
    "minT = c0.coord('TIME').bounds.min()\n",
    "maxT = c0.coord('TIME').bounds.max()\n",
    "\n",
    "print(\"minT = \",minT)\n",
    "print(\"maxT = \",maxT)\n",
    "print(\"units = \",c0.coord('TIME').units)\n",
    "\n",
    "#We set the sample points on the coordinate TIME:\n",
    "sample_points = [('TIME',np.linspace(minT,maxT))]\n",
    "\n",
    "#We make a 'Linear' interpolation. The other option is 'Nearest'\n",
    "c_interp = c0collapsed.interpolate(sample_points, iris.analysis.Linear())\n",
    "\n",
    "#Notice that the extracted and the interpolated cubes look the same\n",
    "#except for the number of time points available (12 the original, vs 50 the interpolated)\n",
    "print(\"Original collapsed Cube: \\n{}\\n\".format(c0collapsed))\n",
    "print(\"Interpolated Cube: \\n{}\\n\".format(c_interp))"
   ]
  },
  {
   "cell_type": "code",
   "execution_count": null,
   "metadata": {
    "collapsed": true
   },
   "outputs": [],
   "source": [
    "#We now plot the evolution of the temperature:\n",
    "iplt.plot(c0collapsed,'ro')\n",
    "iplt.plot(c_interp,'b.')\n",
    "plt.show()"
   ]
  },
  {
   "cell_type": "code",
   "execution_count": null,
   "metadata": {
    "collapsed": false
   },
   "outputs": [],
   "source": [
    "#We now do the reverse...\n",
    "\n",
    "#We get the bounds:\n",
    "if not c0.coord('longitude').has_bounds():\n",
    "    c0.coord('longitude').guess_bounds()\n",
    "minLon = c0.coord('longitude').bounds.min()\n",
    "maxLon = c0.coord('longitude').bounds.max()\n",
    "\n",
    "if not c0.coord('latitude').has_bounds():\n",
    "    c0.coord('latitude').guess_bounds()\n",
    "minLat = c0.coord('latitude').bounds.min()\n",
    "maxLat = c0.coord('latitude').bounds.max()\n",
    "\n",
    "print(\"minLon = \",minLon)\n",
    "print(\"maxLon = \",maxLon)\n",
    "print(\"units = \",c0.coord('longitude').units)\n",
    "\n",
    "print(\"minLat = \",minLat)\n",
    "print(\"maxLat = \",maxLat)\n",
    "print(\"units = \",c0.coord('latitude').units)\n",
    "\n",
    "#We set the sample points on the coordinate TIME:\n",
    "sample_points = [('longitude',np.linspace(minLon,maxLon)),('latitude',np.linspace(minLat,maxLat))]\n",
    "\n",
    "#We make a 'Linear' interpolation. The other option is 'Nearest'\n",
    "c_interpol = c0.interpolate(sample_points, iris.analysis.Linear())\n",
    "#c_interpol2 = c_interpol.interpolate([('longitude',[45]),('latitude',[47])],iris.analysis.Linear())\n",
    "#Notice that the extracted and the interpolated cubes look the same\n",
    "#except for the number of time points available (12 the original, vs 50 the interpolated)\n",
    "#print(\"Original collapsed Cube: \\n{}\\n\".format(c0collapsed))\n",
    "print(\"Interpolated Cube: \\n{}\\n\".format(c_interpol))\n",
    "#print(\"Interpolated Cube2: \\n{}\\n\".format(c_interpol2))"
   ]
  },
  {
   "cell_type": "code",
   "execution_count": null,
   "metadata": {
    "collapsed": false
   },
   "outputs": [],
   "source": [
    "for coord in c0.coords():\n",
    "    print(coord.standard_name)\n"
   ]
  },
  {
   "cell_type": "code",
   "execution_count": null,
   "metadata": {
    "collapsed": true
   },
   "outputs": [],
   "source": []
  }
 ],
 "metadata": {
  "kernelspec": {
   "display_name": "Python 3",
   "language": "python",
   "name": "python3"
  },
  "language_info": {
   "codemirror_mode": {
    "name": "ipython",
    "version": 3
   },
   "file_extension": ".py",
   "mimetype": "text/x-python",
   "name": "python",
   "nbconvert_exporter": "python",
   "pygments_lexer": "ipython3",
   "version": "3.4.5"
  }
 },
 "nbformat": 4,
 "nbformat_minor": 0
}
