{
 "cells": [
  {
   "cell_type": "code",
   "execution_count": 1,
   "id": "a13c091c",
   "metadata": {},
   "outputs": [],
   "source": [
    "import pyvista as pv\n",
    "\n",
    "import iris\n",
    "from iris.experimental.ugrid import PARSE_UGRID_ON_LOAD\n",
    "from iris.experimental.ugrid.plot import plot, is_notebook"
   ]
  },
  {
   "cell_type": "code",
   "execution_count": 2,
   "id": "a485e0cf",
   "metadata": {},
   "outputs": [],
   "source": [
    "def load(lazy=True, single=True, c1048=False):\n",
    "    if c1048:\n",
    "        fname = \"mesh_C1048_synthetic_location.nc\"\n",
    "    else:\n",
    "        fname = \"/home/bill/projects/git/iris/qrclim.sst.ugrid.nc\"\n",
    "\n",
    "    with PARSE_UGRID_ON_LOAD.context():\n",
    "        cube = iris.load_cube(fname)\n",
    "\n",
    "    if not lazy:\n",
    "        cube.data\n",
    "        cube.mesh.face_node_connectivity.indices\n",
    "        node_x, node_y = cube.mesh.node_coords\n",
    "        node_x.points\n",
    "        node_y.points\n",
    "\n",
    "    if single:\n",
    "        cube = cube[0]\n",
    "\n",
    "    return cube"
   ]
  },
  {
   "cell_type": "code",
   "execution_count": 3,
   "id": "9ea7992d",
   "metadata": {},
   "outputs": [],
   "source": [
    "def doit(cube, projection=None, threshold=False):\n",
    "    plotter = pv.Plotter(off_screen=False)\n",
    "    plotter = plot(\n",
    "        cube, projection=projection, threshold=threshold, plotter=plotter\n",
    "    )\n",
    "    plotter.show()"
   ]
  },
  {
   "cell_type": "code",
   "execution_count": 4,
   "id": "3796ece4",
   "metadata": {},
   "outputs": [],
   "source": [
    "cube = load()"
   ]
  },
  {
   "cell_type": "code",
   "execution_count": 5,
   "id": "fcfea6af",
   "metadata": {},
   "outputs": [
    {
     "data": {
      "text/html": [
       "\n",
       "<style>\n",
       "  a.iris {\n",
       "      text-decoration: none !important;\n",
       "  }\n",
       "  table.iris {\n",
       "      white-space: pre;\n",
       "      border: 1px solid;\n",
       "      border-color: #9c9c9c;\n",
       "      font-family: monaco, monospace;\n",
       "  }\n",
       "  th.iris {\n",
       "      background: #303f3f;\n",
       "      color: #e0e0e0;\n",
       "      border-left: 1px solid;\n",
       "      border-color: #9c9c9c;\n",
       "      font-size: 1.05em;\n",
       "      min-width: 50px;\n",
       "      max-width: 125px;\n",
       "  }\n",
       "  tr.iris :first-child {\n",
       "      border-right: 1px solid #9c9c9c !important;\n",
       "  }\n",
       "  td.iris-title {\n",
       "      background: #d5dcdf;\n",
       "      border-top: 1px solid #9c9c9c;\n",
       "      font-weight: bold;\n",
       "  }\n",
       "  .iris-word-cell {\n",
       "      text-align: left !important;\n",
       "      white-space: pre;\n",
       "  }\n",
       "  .iris-subheading-cell {\n",
       "      padding-left: 2em !important;\n",
       "  }\n",
       "  .iris-inclusion-cell {\n",
       "      padding-right: 1em !important;\n",
       "  }\n",
       "  .iris-panel-body {\n",
       "      padding-top: 0px;\n",
       "  }\n",
       "  .iris-panel-title {\n",
       "      padding-left: 3em;\n",
       "  }\n",
       "  .iris-panel-title {\n",
       "      margin-top: 7px;\n",
       "  }\n",
       "</style>\n",
       "<table class=\"iris\" id=\"140265891146576\">\n",
       "    <tr class=\"iris\">\n",
       "<th class=\"iris iris-word-cell\">Surface Temperature (K)</th>\n",
       "<th class=\"iris iris-word-cell\">--</th>\n",
       "</tr>\n",
       "    <tr class=\"iris\">\n",
       "<td class=\"iris-word-cell iris-subheading-cell\">Shape</td>\n",
       "<td class=\"iris iris-inclusion-cell\">13824</td>\n",
       "</tr>\n",
       "    <tr class=\"iris\">\n",
       "    <td class=\"iris-title iris-word-cell\">Auxiliary coordinates</td>\n",
       "    <td class=\"iris-title\"></td>\n",
       "</tr>\n",
       "<tr class=\"iris\">\n",
       "    <td class=\"iris-word-cell iris-subheading-cell\">\tlatitude</td>\n",
       "    <td class=\"iris-inclusion-cell\">x</td>\n",
       "</tr>\n",
       "<tr class=\"iris\">\n",
       "    <td class=\"iris-word-cell iris-subheading-cell\">\tlongitude</td>\n",
       "    <td class=\"iris-inclusion-cell\">x</td>\n",
       "</tr>\n",
       "<tr class=\"iris\">\n",
       "    <td class=\"iris-title iris-word-cell\">Scalar coordinates</td>\n",
       "    <td class=\"iris-title\"></td>\n",
       "</tr>\n",
       "<tr class=\"iris\">\n",
       "    <td class=\"iris-word-cell iris-subheading-cell\">\tforecast_period</td>\n",
       "    <td class=\"iris-word-cell\" colspan=\"1\">0 hours, bound=(-254951.98333333433, 0.0) hours</td>\n",
       "</tr>\n",
       "<tr class=\"iris\">\n",
       "    <td class=\"iris-word-cell iris-subheading-cell\">\tforecast_reference_time</td>\n",
       "    <td class=\"iris-word-cell\" colspan=\"1\">1990-01-31 23:59:00</td>\n",
       "</tr>\n",
       "<tr class=\"iris\">\n",
       "    <td class=\"iris-word-cell iris-subheading-cell\">\ttime</td>\n",
       "    <td class=\"iris-word-cell\" colspan=\"1\">1990-01-31 23:59:00, bound=(1961-01-01 00:00:00, 1990-01-31 23:59:00)</td>\n",
       "</tr>\n",
       "<tr class=\"iris\">\n",
       "    <td class=\"iris-title iris-word-cell\">Attributes</td>\n",
       "    <td class=\"iris-title\"></td>\n",
       "</tr>\n",
       "<tr class=\"iris\">\n",
       "    <td class=\"iris-word-cell iris-subheading-cell\">\tConventions</td>\n",
       "    <td class=\"iris-word-cell\" colspan=\"1\">UGRID-1.0</td>\n",
       "</tr>\n",
       "<tr class=\"iris\">\n",
       "    <td class=\"iris-word-cell iris-subheading-cell\">\tSTASH</td>\n",
       "    <td class=\"iris-word-cell\" colspan=\"1\">m01s00i024</td>\n",
       "</tr>\n",
       "<tr class=\"iris\">\n",
       "    <td class=\"iris-word-cell iris-subheading-cell\">\tgrid_staggering</td>\n",
       "    <td class=\"iris-word-cell\" colspan=\"1\">2</td>\n",
       "</tr>\n",
       "<tr class=\"iris\">\n",
       "    <td class=\"iris-word-cell iris-subheading-cell\">\tonline_operation</td>\n",
       "    <td class=\"iris-word-cell\" colspan=\"1\">once</td>\n",
       "</tr>\n",
       "<tr class=\"iris\">\n",
       "    <td class=\"iris-word-cell iris-subheading-cell\">\tsource</td>\n",
       "    <td class=\"iris-word-cell\" colspan=\"1\">Data from Met Office Unified Model</td>\n",
       "</tr>\n",
       "<tr class=\"iris\">\n",
       "    <td class=\"iris-word-cell iris-subheading-cell\">\tum_version</td>\n",
       "    <td class=\"iris-word-cell\" colspan=\"1\">7.6</td>\n",
       "</tr>\n",
       "</table>\n",
       "        "
      ],
      "text/plain": [
       "<iris 'Cube' of surface_temperature / (K) (-- : 13824)>"
      ]
     },
     "execution_count": 5,
     "metadata": {},
     "output_type": "execute_result"
    }
   ],
   "source": [
    "cube"
   ]
  },
  {
   "cell_type": "code",
   "execution_count": 8,
   "id": "2f6ef7fb",
   "metadata": {},
   "outputs": [],
   "source": [
    "plotter = plot(cube, threshold=True, projection=\"moll\")"
   ]
  },
  {
   "cell_type": "code",
   "execution_count": 9,
   "id": "c4c213d3",
   "metadata": {},
   "outputs": [
    {
     "data": {
      "application/vnd.jupyter.widget-view+json": {
       "model_id": "92d0d348244b4e2fadc6c454533cf2f8",
       "version_major": 2,
       "version_minor": 0
      },
      "text/plain": [
       "Viewer(camera=array([[9.3959852e+04, 0.0000000e+00, 5.5805212e+07],\n",
       "       [9.3959852e+04, 0.0000000e+00, 0.00…"
      ]
     },
     "metadata": {},
     "output_type": "display_data"
    },
    {
     "data": {
      "application/vnd.jupyter.widget-view+json": {
       "model_id": "92d0d348244b4e2fadc6c454533cf2f8",
       "version_major": 2,
       "version_minor": 0
      },
      "text/plain": [
       "Viewer(camera=array([[9.3959852e+04, 0.0000000e+00, 5.5805212e+07],\n",
       "       [9.3959852e+04, 0.0000000e+00, 0.00…"
      ]
     },
     "metadata": {},
     "output_type": "display_data"
    }
   ],
   "source": [
    "plotter.show()"
   ]
  },
  {
   "cell_type": "code",
   "execution_count": null,
   "id": "d53a2d05",
   "metadata": {},
   "outputs": [],
   "source": []
  }
 ],
 "metadata": {
  "kernelspec": {
   "display_name": "Python 3",
   "language": "python",
   "name": "python3"
  },
  "language_info": {
   "codemirror_mode": {
    "name": "ipython",
    "version": 3
   },
   "file_extension": ".py",
   "mimetype": "text/x-python",
   "name": "python",
   "nbconvert_exporter": "python",
   "pygments_lexer": "ipython3",
   "version": "3.8.8"
  }
 },
 "nbformat": 4,
 "nbformat_minor": 5
}
